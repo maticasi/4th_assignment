{
 "cells": [
  {
   "attachments": {},
   "cell_type": "markdown",
   "metadata": {},
   "source": [
    "4th Assignment\n",
    "\n",
    "For this assignment I helped myself through websites since due to health reasons i didn't have enough time to focus on it, but i made sure i understood every code."
   ]
  },
  {
   "cell_type": "markdown",
   "metadata": {},
   "source": [
    "Rabbits and Recurrence Relations\n",
    "\n",
    "A sequence is an ordered collection of objects (usually numbers), which are allowed to repeat. Sequences can be finite or infinite. Two examples are the finite sequence (π,−2‾√,0,π) and the infinite sequence of odd numbers (1,3,5,7,9,…). We use the notation an to represent the n-th term of a sequence.\n",
    "\n",
    "A recurrence relation is a way of defining the terms of a sequence with respect to the values of previous terms. In the case of Fibonacci's rabbits from the introduction, any given month will contain the rabbits that were alive the previous month, plus any new offspring. A key observation is that the number of offspring in any month is equal to the number of rabbits that were alive two months prior. As a result, if Fn represents the number of rabbit pairs alive after the n-th month, then we obtain the Fibonacci sequence having terms Fn that are defined by the recurrence relation Fn=Fn−1+Fn−2 (with F1=F2=1 to initiate the sequence). Although the sequence bears Fibonacci's name, it was known to Indian mathematicians over two millennia ago.\n",
    "\n",
    "When finding the n-th term of a sequence defined by a recurrence relation, we can simply use the recurrence relation to generate terms for progressively larger values of n. This problem introduces us to the computational technique of dynamic programming, which successively builds up solutions by using the answers to smaller cases."
   ]
  },
  {
   "cell_type": "code",
   "execution_count": null,
   "metadata": {},
   "outputs": [],
   "source": [
    "def wabbits(n, k):\n",
    "   if n == 0:\n",
    "    return 0\n",
    "   if n == 1:\n",
    "    return 1\n",
    "   else:\n",
    "    return wabbits(n-1, k) + k*wabbits(n-2, k)\n",
    "print(wabbits(34,2))"
   ]
  },
  {
   "cell_type": "markdown",
   "metadata": {},
   "source": [
    "Counting Point Mutations\n",
    "\n",
    "Given two strings s and t of equal length, the Hamming distance between s and t, denoted dH(s,t), is the number of corresponding symbols that differ in s and t. "
   ]
  },
  {
   "cell_type": "code",
   "execution_count": null,
   "metadata": {},
   "outputs": [],
   "source": [
    "s = \"ACAGCTTCAACATGGTACATGAAAGTGCAAGGACTCCCAAGGAGACAGGATAAGCAACTTCCACTATAATTCGTGGGTCGCGGGCAGCTTGGTGTGAGTGTCTGTAGTAGCGCGGCCCTTATTGGAGCTTAAGTAGGCGGGTCTGAATACCCCCGCTATGCTACATGCACTATGTTGAGCTAATTCACATCGCGACGTCTAGATCTAACGCTGGAAGACTCGACCAATGCCAATAACTCTTGTAGTAGATGGCAGATTCTAGCCCACGCTGCATGGGTATGCCGCTGCATCTCTCAAGGCTACGCTCTACGCGACGCTCACCGCCCTGGCGGGCATGTGCTGGAGTTAATGCGTGCTCAGCCCTTTAGTACGTACTTGAAGTTCAGTAGAGGAACGCCCTGCGCTCGCTAAGATCTCAGCTCCCATTTGACAAACATTACCACCATCCGTATCGCGGCCGCGAGCTAAATTGAGGGCACAATCCTAGATAGTCACGTGCAGTAGGAATGGGTCATTGGAGGCGCTTTCGACAGAACGCATCAAGAGAGGGTACATTCTACGTAAGGCACAGCCGGCGTACTATAGATAACACGGACTATGCAGGTTGGCGGACGTGATCTAAGATAGTTCAATATCTGATATCATCGGGTTTGCCGATTTCAGATTGGAGTTCCCATTCTGGTAGCACAGCTTGTTACTGTCTACACTGCTAACATCTTAGTCGACTCGCACAATCACCCGCCCTATCGCGTCCCCAACCCCGTCTCCCCCGGTAACCGTCACTTACCATAGCTAGCTTAGATCGTGTGAGAATTGTGCGCTAATGCCACGTGGTCCCCGGCGTGGTCAAACTTAAGATAGAAGGTGGTAGTCCCCGATGGATAGCGCGTAGCATTTGTTTAATGACCTCGGTTAGAAGATAAGTACCAGTAGAGCCTTCCCTGATTGGCCATTCGGCCTTCAGTTTAAC\"\n",
    "t = \"TCTACAGGTAGAGGGTACATGACTGTCCTAGAACTTCGTACAATACAGCTCACAGAGCTTCTAATAGAAACAGCAGGATTACGGTCGAGTTGTAAAACCACTTGCAGGACGGTCGTTCCAGTTCTAGCGCAAACGAACTACCCGGAAGAACCCGACCACGCCGCTGGCAGTATATTAGACGCCCTCTGTATTGTACTCAAACTTATCGCACCATATGAATCTACCTCTGCTAGCGATTCTGAGACATTAAAGCGAATTGTAAGCCCCGGGCCATTGGTATCGTACGACATTGTTCGCATCTCCGTTATACCAGACTCTAACCCCATAAGCGTCCTTTTGCAGCTGTTATTGACCGCACTGCCATGTTTCTAGAACAATCCGGTCATCTGAAAATCCCGCTGTAGGCGGTCGGGGACTATCTTATCATGGTTGAAGCGTACCTAACTCCCATTGAATGGCCGGTGCTCAATTCGCGAGCTACTTATAGCTAGGCACGATCATGCGCGACTTGTGATCCGGGTCGCTGGTCACTCGCAGCCTAAGGTTTGCCTACATTTCAATTATGGCCCTACTGAGAGGCTAAAAATTATACGGGATAAGACGGTTGGCAGACGGGCGCCTATTATTATAATGTGCAGAAGGGCTCCGGTCGGCAGATCAAGTACTCGAACCCTTACCCTGGGAGCACACGTTGTTCCGCGTTACTAGCTTTACATCTGTTCCGACACTGCCGCTTTGGGGCGCCATTCCTACCCGTACCCGGGCACCCGCGGTTTCCGTTACGTCACATACCAATTTTAGATTGTTTTAGTATTAAGCACTAAATGTAGGGAGGCTCCCGGCTTACCGACATAGAGACAGGGTGTTGTTCTACCATATGGATAAGTGTTGAATTATTATTATAGAACACCGTAAGAAGTTGATCCCAATTAGAGCCTGCTGATCAGAGTAGTGCGGGCTACACTTTTAT\"\n",
    "\n",
    "def hamming_distance(s, t):\n",
    "    if len(s) != len(t):\n",
    "        print(\"Strings are not equal size!\")\n",
    "    else:\n",
    "        hamming_dist = 0\n",
    "        for position in range(len(s)): # len(s) == len(t) in this case\n",
    "            if s[position] != t[position]:\n",
    "                hamming_dist = hamming_dist + 1\n",
    "        return hamming_dist\n",
    "\n",
    "print(f\"Hamming distance for this example is: {hamming_distance(s,t)}\")"
   ]
  },
  {
   "cell_type": "markdown",
   "metadata": {},
   "source": [
    "Mortal Fibonacci Rabbits https://rosalind.info/problems/fibd/\n",
    "Recall the definition of the Fibonacci numbers from “Rabbits and Recurrence Relations”, which followed the recurrence relation Fn=Fn−1+Fn−2 and assumed that each pair of rabbits reaches maturity in one month and produces a single pair of offspring (one male, one female) each subsequent month.\n",
    "\n",
    "Our aim is to somehow modify this recurrence relation to achieve a dynamic programming solution in the case that all rabbits die out after a fixed number of months"
   ]
  },
  {
   "cell_type": "code",
   "execution_count": null,
   "metadata": {},
   "outputs": [],
   "source": [
    "from collections import Counter\n",
    "\n",
    "n = 98                                                                         \n",
    "m = 19                                                                         \n",
    "bunnies = [1, 1]                                                               \n",
    "months = 2                                                                     \n",
    "while months < n:                                                              \n",
    "    if months < m:                                                             \n",
    "        bunnies.append(bunnies[-2] + bunnies[-1])                              \n",
    "    elif months == m or Counter == m + 1:                                        \n",
    "        bunnies.append(bunnies[-2] + bunnies[-1] - 1)                          \n",
    "    else:                                                                      \n",
    "        bunnies.append(bunnies[-2] + bunnies[-1] - bunnies[-(                  \n",
    "            m + 1)])                                                           \n",
    "    months += 1                                                                \n",
    "print(bunnies[-1])                                                              \n"
   ]
  },
  {
   "cell_type": "markdown",
   "metadata": {},
   "source": [
    "Inferring mRNA from Protein https://rosalind.info/problems/mrna/\n",
    "\n",
    "For positive integers a and n, a modulo n (written amodn in shorthand) is the remainder when a is divided by n. For example, 29mod11=7 because 29=11×2+7.\n",
    "\n",
    "Modular arithmetic is the study of addition, subtraction, multiplication, and division with respect to the modulo operation. We say that a and b are congruent modulo n if amodn=bmodn; in this case, we use the notation a≡bmodn.\n",
    "\n",
    "Two useful facts in modular arithmetic are that if a≡bmodn and c≡dmodn, then a+c≡b+dmodn and a×c≡b×dmodn. To check your understanding of these rules, you may wish to verify these relationships for a=29, b=73, c=10, d=32, and n=11."
   ]
  },
  {
   "cell_type": "code",
   "execution_count": null,
   "metadata": {},
   "outputs": [],
   "source": [
    "codon_map = {\n",
    "    'UUU': 'F',     'CUU': 'L',     'AUU': 'I',     'GUU': 'V',\n",
    "    'UUC': 'F',     'CUC': 'L',     'AUC': 'I',     'GUC': 'V',\n",
    "    'UUA': 'L',     'CUA': 'L',     'AUA': 'I',     'GUA': 'V',\n",
    "    'UUG': 'L',     'CUG': 'L',     'AUG': 'M',     'GUG': 'V',\n",
    "    'UCU': 'S',     'CCU': 'P',     'ACU': 'T',     'GCU': 'A',\n",
    "    'UCC': 'S',     'CCC': 'P',     'ACC': 'T',     'GCC': 'A',\n",
    "    'UCA': 'S',     'CCA': 'P',     'ACA': 'T',     'GCA': 'A',\n",
    "    'UCG': 'S',     'CCG': 'P',     'ACG': 'T',     'GCG': 'A',\n",
    "    'UAU': 'Y',     'CAU': 'H',     'AAU': 'N',     'GAU': 'D',\n",
    "    'UAC': 'Y',     'CAC': 'H',     'AAC': 'N',     'GAC': 'D',\n",
    "    'UAA': 'Stop',  'CAA': 'Q',     'AAA': 'K',     'GAA': 'E',\n",
    "    'UAG': 'Stop',  'CAG': 'Q',     'AAG': 'K',     'GAG': 'E',\n",
    "    'UGU': 'C',     'CGU': 'R',     'AGU': 'S',     'GGU': 'G',\n",
    "    'UGC': 'C',     'CGC': 'R',     'AGC': 'S',     'GGC': 'G',\n",
    "    'UGA': 'Stop',  'CGA': 'R',     'AGA': 'R',     'GGA': 'G',\n",
    "    'UGG': 'W',     'CGG': 'R',     'AGG': 'R',     'GGG': 'G'\n",
    "}\n",
    " \n",
    "def codon_frequency():\n",
    "    frequency = {}\n",
    "    for k, v in codon_map.items():\n",
    "        if v not in frequency:\n",
    "            frequency[v] = 0\n",
    "        frequency[v] += 1\n",
    "    return (frequency)\n",
    " \n",
    "def possible_sequences(sequence):\n",
    "    f = codon_frequency()\n",
    "    n = f['Stop']\n",
    "    for seq in sequence:\n",
    "        n *= f[seq]\n",
    "    return (n % 1000000)                              \n",
    "\n",
    "with open('rosalind_mrna.txt') as file: #replace filename with yours\n",
    "    protein_seq = file.read().strip()\n",
    "print(possible_sequences(protein_seq))"
   ]
  },
  {
   "cell_type": "markdown",
   "metadata": {},
   "source": [
    "Calculating Protein Mass  https://rosalind.info/problems/prtm/\n",
    "\n",
    "In a weighted alphabet, every symbol is assigned a positive real number called a weight. A string formed from a weighted alphabet is called a weighted string, and its weight is equal to the sum of the weights of its symbols."
   ]
  },
  {
   "cell_type": "code",
   "execution_count": null,
   "metadata": {},
   "outputs": [],
   "source": [
    "weights = {'A': 71.03711,             \n",
    "           'C': 103.00919,            \n",
    "           'D': 115.02694,            \n",
    "           'E': 129.04259,            \n",
    "           'F': 147.06841,            \n",
    "           'G': 57.02146,             \n",
    "           'H': 137.05891,            \n",
    "           'I': 113.08406,            \n",
    "           'K': 128.09496,            \n",
    "           'L': 113.08406,            \n",
    "           'M': 131.04049,            \n",
    "           'N': 114.04293,            \n",
    "           'P': 97.05276,             \n",
    "           'Q': 128.05858,            \n",
    "           'R': 156.10111,            \n",
    "           'S': 87.03203,             \n",
    "           'T': 101.04768,            \n",
    "           'V': 99.06841,             \n",
    "           'W': 186.07931,            \n",
    "           'Y': 163.06333}            \n",
    "\n",
    "with open('sampledata.txt', 'r') as f:\n",
    "    for line in f:                    \n",
    "        prot_seq = line.strip('\\n')   \n",
    "\n",
    "weight = 0                            \n",
    "for aa in prot_seq:                   \n",
    "    weight += weights[aa]             \n",
    "\n",
    "print('%0.3f' % weight)"
   ]
  },
  {
   "cell_type": "markdown",
   "metadata": {},
   "source": [
    "Finding a shared Motif https://rosalind.info/problems/lcsm/\n",
    "\n",
    "A common substring of a collection of strings is a substring of every member of the collection. We say that a common substring is a longest common substring if there does not exist a longer common substring. For example, \"CG\" is a common substring of \"ACGTACGT\" and \"AACCGTATA\", but it is not as long as possible; in this case, \"CGTA\" is a longest common substring of \"ACGTACGT\" and \"AACCGTATA\"."
   ]
  },
  {
   "cell_type": "code",
   "execution_count": null,
   "metadata": {},
   "outputs": [],
   "source": [
    "#it's a bit slow but it works\n",
    "\n",
    "from Bio import SeqIO                      \n",
    "sequences = []                             \n",
    "handle = open('rosalind_lcsm.txt', 'r')\n",
    "for record in SeqIO.parse(handle, 'fasta'):\n",
    "    sequence = []                          \n",
    "    seq = ''                               \n",
    "    for nt in record.seq:                  \n",
    "        seq += nt                          \n",
    "    sequences.append(seq)                  \n",
    "handle.close()\n",
    "\n",
    "srt_seq = sorted(sequences, key=len)     \n",
    "short_seq = srt_seq[0]                   \n",
    "comp_seq = srt_seq[1:]                   \n",
    "motif = ''                               \n",
    "for i in range(len(short_seq)):          \n",
    "    for j in range(i, len(short_seq)):   \n",
    "        m = short_seq[i:j + 1]           \n",
    "        found = False                   \n",
    "        for sequ in comp_seq:            \n",
    "            if m in sequ:                \n",
    "                found = True            \n",
    "            else:                        \n",
    "                found = False           \n",
    "                break                   \n",
    "        if found and len(m) > len(motif):\n",
    "            motif = m                    \n",
    "print(motif)\n"
   ]
  },
  {
   "cell_type": "markdown",
   "metadata": {},
   "source": [
    "Enumerating Gene Orders https://rosalind.info/problems/perm/\n",
    "\n",
    "A permutation of length n is an ordering of the positive integers {1,2,…,n}. For example, π=(5,3,2,1,4) is a permutation of length 5."
   ]
  },
  {
   "cell_type": "code",
   "execution_count": null,
   "metadata": {},
   "outputs": [],
   "source": [
    "import math                                         \n",
    "import itertools                                    \n",
    "n = 3                                               \n",
    "print(math.factorial(n))                            \n",
    "perm = itertools.permutations(list(range(1, n + 1)))\n",
    "for i, j in enumerate(list(perm)):                  \n",
    "    permutation = ''                                \n",
    "    for item in j:                                  \n",
    "        permutation += str(item) + ' '              \n",
    "    print(permutation)                              \n"
   ]
  },
  {
   "cell_type": "markdown",
   "metadata": {},
   "source": [
    "Locating Restriction Sites https://rosalind.info/problems/revp/\n",
    "\n",
    "A DNA string is a reverse palindrome if it is equal to its reverse complement. For instance, GCATGC is a reverse palindrome because its reverse complement is GCATGC. "
   ]
  },
  {
   "cell_type": "code",
   "execution_count": null,
   "metadata": {},
   "outputs": [],
   "source": [
    "from Bio import SeqIO\n",
    "from Bio.Seq import Seq\n",
    "\n",
    "f = open(\"rosalind_revp.txt\", 'r')\n",
    "seq = SeqIO.read(f, \"fasta\")\n",
    "f.close()\n",
    "\n",
    "hand_in = open(\"output.txt\", 'w')\n",
    "for start in range(len(seq)):\n",
    "    for end in range(len(seq), start, -1): \n",
    "        if end - start < 4: \n",
    "            break\n",
    "        else:\n",
    "            \n",
    "            if str(seq.seq[start:end]) == str(seq.seq[start:end].reverse_complement()):\n",
    "                \n",
    "                if len(seq.seq[start:end]) >= 4 and len(seq.seq[start:end]) <= 12:\n",
    "                    \n",
    "                    print(\" \".join(map(str, [start+1, len(seq.seq[start:end])])), file = hand_in)"
   ]
  },
  {
   "attachments": {},
   "cell_type": "markdown",
   "metadata": {},
   "source": [
    "Enumerating k-mers Lexicographically https://rosalind.info/problems/lexf/\n",
    "\n",
    "\n",
    "Assume that an alphabet 𝒜 has a predetermined order; that is, we write the alphabet as a permutation 𝒜=(a1,a2,…,ak), where a1<a2<⋯<ak. For instance, the English alphabet is organized as (A,B,…,Z).\n",
    "\n",
    "Given two strings s and t having the same length n, we say that s precedes t in the lexicographic order (and write s<Lext) if the first symbol s[j] that doesn't match t[j] satisfies sj<tj in 𝒜.\n"
   ]
  },
  {
   "cell_type": "code",
   "execution_count": null,
   "metadata": {},
   "outputs": [],
   "source": [
    "import itertools\n",
    "import pandas as pd\n",
    "\n",
    "f= open(\"rosalind_lexf.txt\", 'r') \n",
    "line = f.readline().split()\n",
    "n = int(f.readline().strip())\n",
    "result = list(itertools.product(line, repeat = n)) # itertools.product(*iterables, repeat=1)\n",
    "join= [\"\".join(x) for x in result]\n",
    "print(\"\\n\".join(join))"
   ]
  },
  {
   "cell_type": "markdown",
   "metadata": {},
   "source": [
    "Longest Increasing Subsequence https://rosalind.info/problems/lgis/\n",
    "\n",
    "A subsequence of a permutation is a collection of elements of the permutation in the order that they appear. For example, (5, 3, 4) is a subsequence of (5, 1, 3, 4, 2).\n",
    "\n",
    "A subsequence is increasing if the elements of the subsequence increase, and decreasing if the elements decrease. For example, given the permutation (8, 2, 1, 6, 5, 7, 4, 3, 9), an increasing subsequence is (2, 6, 7, 9), and a decreasing subsequence is (8, 6, 5, 4, 3)."
   ]
  },
  {
   "cell_type": "code",
   "execution_count": null,
   "metadata": {},
   "outputs": [],
   "source": [
    "data = []                                \n",
    "with open('sampledata.txt', 'r') as f:   \n",
    "    for line in f:                       \n",
    "        for nr in line.split():          \n",
    "            data.append(int(nr))         \n",
    "perm = data[1:]\n",
    "\n",
    "\n",
    "def increasing(seq):\n",
    "    P = [None] * len(seq)\n",
    "    M = [None] * len(seq)\n",
    "\n",
    "    L = 1\n",
    "    M[0] = 0\n",
    "    for i in range(1, len(seq)):\n",
    "        lo = 0\n",
    "        hi = L\n",
    "        if seq[M[hi - 1]] < seq[i]:\n",
    "            j = hi\n",
    "        else:\n",
    "            while hi - lo > 1:\n",
    "                mid = (hi + lo) // 2\n",
    "                if seq[M[mid - 1]] < seq[i]:\n",
    "                    lo = mid\n",
    "                else:\n",
    "                    hi = mid\n",
    "\n",
    "            j = lo\n",
    "        P[i] = M[j - 1]\n",
    "        if j == L or seq[i] < seq[M[j]]:\n",
    "            M[j] = i\n",
    "            L = max(L, j + 1)\n",
    "\n",
    "    result = []\n",
    "    pos = M[L - 1]\n",
    "    for k in range(L):\n",
    "        result.append(seq[pos])\n",
    "        pos = P[pos]\n",
    "\n",
    "    return (result[::-1])\n",
    "\n",
    "\n",
    "def decreasing(seq):\n",
    "    P = [None] * len(seq)\n",
    "    M = [None] * len(seq)\n",
    "\n",
    "    L = 1\n",
    "    M[0] = 0\n",
    "    for i in range(1, len(seq)):\n",
    "        lo = 0\n",
    "        hi = L\n",
    "        if seq[M[hi - 1]] > seq[i]:\n",
    "            j = hi\n",
    "        else:\n",
    "            while hi - lo > 1:\n",
    "                mid = (hi + lo) // 2\n",
    "                if seq[M[mid - 1]] > seq[i]:\n",
    "                    lo = mid\n",
    "                else:\n",
    "                    hi = mid\n",
    "\n",
    "            j = lo\n",
    "        P[i] = M[j - 1]\n",
    "        if j == L or seq[i] > seq[M[j]]:\n",
    "            M[j] = i\n",
    "            L = max(L, j + 1)\n",
    "\n",
    "    result = []\n",
    "    pos = M[L - 1]\n",
    "    for k in range(L):\n",
    "        result.append(seq[pos])\n",
    "        pos = P[pos]\n",
    "\n",
    "    return (result[::-1])\n",
    "\n",
    "incr = increasing(perm)\n",
    "decr = decreasing(perm)\n",
    "\n",
    "print(*incr)\n",
    "print(*decr)"
   ]
  }
 ],
 "metadata": {
  "kernelspec": {
   "display_name": "Python 3.10.0 64-bit",
   "language": "python",
   "name": "python3"
  },
  "language_info": {
   "name": "python",
   "version": "3.10.0 (v3.10.0:b494f5935c, Oct  4 2021, 14:59:19) [Clang 12.0.5 (clang-1205.0.22.11)]"
  },
  "orig_nbformat": 4,
  "vscode": {
   "interpreter": {
    "hash": "aee8b7b246df8f9039afb4144a1f6fd8d2ca17a180786b69acc140d282b71a49"
   }
  }
 },
 "nbformat": 4,
 "nbformat_minor": 2
}
